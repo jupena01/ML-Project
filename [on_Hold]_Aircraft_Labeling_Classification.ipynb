{
  "metadata": {
    "kernelspec": {
      "language": "python",
      "display_name": "Python 3",
      "name": "python3"
    },
    "language_info": {
      "name": "python",
      "version": "3.10.13",
      "mimetype": "text/x-python",
      "codemirror_mode": {
        "name": "ipython",
        "version": 3
      },
      "pygments_lexer": "ipython3",
      "nbconvert_exporter": "python",
      "file_extension": ".py"
    },
    "kaggle": {
      "accelerator": "none",
      "dataSources": [
        {
          "sourceId": 7671284,
          "sourceType": "datasetVersion",
          "datasetId": 4440703
        }
      ],
      "dockerImageVersionId": 30646,
      "isInternetEnabled": true,
      "language": "python",
      "sourceType": "notebook",
      "isGpuEnabled": false
    },
    "colab": {
      "name": "[on Hold] Aircraft Labeling Classification ",
      "provenance": [],
      "include_colab_link": true
    }
  },
  "nbformat_minor": 0,
  "nbformat": 4,
  "cells": [
    {
      "cell_type": "markdown",
      "metadata": {
        "id": "view-in-github",
        "colab_type": "text"
      },
      "source": [
        "<a href=\"https://colab.research.google.com/github/jupena01/ML-Project/blob/main/%5Bon_Hold%5D_Aircraft_Labeling_Classification.ipynb\" target=\"_parent\"><img src=\"https://colab.research.google.com/assets/colab-badge.svg\" alt=\"Open In Colab\"/></a>"
      ]
    },
    {
      "cell_type": "code",
      "source": [
        "# This Python 3 environment comes with many helpful analytics libraries installed\n",
        "# It is defined by the kaggle/python Docker image: https://github.com/kaggle/docker-python\n",
        "# For example, here's several helpful packages to load\n",
        "\n",
        "import numpy as np # linear algebra\n",
        "import pandas as pd # data processing, CSV file I/O (e.g. pd.read_csv)\n",
        "\n",
        "# Input data files are available in the read-only \"../input/\" directory\n",
        "# For example, running this (by clicking run or pressing Shift+Enter) will list all files under the input directory\n",
        "\n",
        "import os\n",
        "for dirname, _, filenames in os.walk('/kaggle/input'):\n",
        "    for filename in filenames:\n",
        "        print(os.path.join(dirname, filename))\n",
        "\n",
        "# You can write up to 20GB to the current directory (/kaggle/working/) that gets preserved as output when you create a version using \"Save & Run All\"\n",
        "# You can also write temporary files to /kaggle/temp/, but they won't be saved outside of the current session"
      ],
      "metadata": {
        "_uuid": "8f2839f25d086af736a60e9eeb907d3b93b6e0e5",
        "_cell_guid": "b1076dfc-b9ad-4769-8c92-a6c4dae69d19",
        "execution": {
          "iopub.status.busy": "2024-02-23T18:35:15.90526Z",
          "iopub.execute_input": "2024-02-23T18:35:15.905758Z",
          "iopub.status.idle": "2024-02-23T18:35:15.932202Z",
          "shell.execute_reply.started": "2024-02-23T18:35:15.905721Z",
          "shell.execute_reply": "2024-02-23T18:35:15.931167Z"
        },
        "trusted": true,
        "id": "s7wGt5P21wvP"
      },
      "execution_count": null,
      "outputs": []
    },
    {
      "cell_type": "markdown",
      "source": [
        "## Exploration Data Analysis\n",
        "\n",
        "At first using Seaborn's *histograms* to understand how data is distributed"
      ],
      "metadata": {
        "id": "q579nn8c1wvQ"
      }
    },
    {
      "cell_type": "code",
      "source": [
        "# Importing Dataset\n",
        "aircraft_df = pd.read_csv('/kaggle/input/investigating-aircraft-weight-and-balance-metrics/aircraft_dataset.csv')\n",
        "\n",
        "# Printing a sample\n",
        "aircraft_df.head()"
      ],
      "metadata": {
        "execution": {
          "iopub.status.busy": "2024-02-23T18:35:15.934393Z",
          "iopub.execute_input": "2024-02-23T18:35:15.934807Z",
          "iopub.status.idle": "2024-02-23T18:35:16.076546Z",
          "shell.execute_reply.started": "2024-02-23T18:35:15.934773Z",
          "shell.execute_reply": "2024-02-23T18:35:16.075269Z"
        },
        "trusted": true,
        "id": "oMGcmQ8m1wvR"
      },
      "execution_count": null,
      "outputs": []
    },
    {
      "cell_type": "code",
      "source": [
        "# Analysing data\n",
        "aircraft_df.describe()"
      ],
      "metadata": {
        "execution": {
          "iopub.status.busy": "2024-02-23T18:35:16.078659Z",
          "iopub.execute_input": "2024-02-23T18:35:16.079117Z",
          "iopub.status.idle": "2024-02-23T18:35:16.150284Z",
          "shell.execute_reply.started": "2024-02-23T18:35:16.079075Z",
          "shell.execute_reply": "2024-02-23T18:35:16.148448Z"
        },
        "trusted": true,
        "id": "YCCIWSCv1wvR"
      },
      "execution_count": null,
      "outputs": []
    },
    {
      "cell_type": "code",
      "source": [
        "# Ploting data for Analysis\n",
        "import matplotlib.pyplot as plt\n",
        "import seaborn as sns\n",
        "\n",
        "aircraft_features = aircraft_df.drop(['Unnamed: 0', 'Aircraft Model','Center of Gravity Limits', 'Engine Type'], axis=1)\n",
        "\n",
        "aircraft_df[aircraft_features.columns].hist(figsize=(13, 12))\n",
        "\n",
        "plt.tight_layout()\n",
        "plt.show()"
      ],
      "metadata": {
        "execution": {
          "iopub.status.busy": "2024-02-23T18:35:16.155287Z",
          "iopub.execute_input": "2024-02-23T18:35:16.155943Z",
          "iopub.status.idle": "2024-02-23T18:35:19.262747Z",
          "shell.execute_reply.started": "2024-02-23T18:35:16.15589Z",
          "shell.execute_reply": "2024-02-23T18:35:19.261445Z"
        },
        "trusted": true,
        "id": "MnazDIrW1wvR"
      },
      "execution_count": null,
      "outputs": []
    },
    {
      "cell_type": "code",
      "source": [
        "# Using Correlation to understand more about data\n",
        "aircraft_features.corr()"
      ],
      "metadata": {
        "execution": {
          "iopub.status.busy": "2024-02-23T18:35:19.264249Z",
          "iopub.execute_input": "2024-02-23T18:35:19.264688Z",
          "iopub.status.idle": "2024-02-23T18:35:19.29849Z",
          "shell.execute_reply.started": "2024-02-23T18:35:19.264649Z",
          "shell.execute_reply": "2024-02-23T18:35:19.297384Z"
        },
        "trusted": true,
        "id": "fw5GE3kr1wvS"
      },
      "execution_count": null,
      "outputs": []
    },
    {
      "cell_type": "code",
      "source": [
        "sns.heatmap(aircraft_features.corr(), annot=True, fmt=\".4f\")\n",
        "\n",
        "plt.title('Heatmap')\n",
        "plt.show()"
      ],
      "metadata": {
        "execution": {
          "iopub.status.busy": "2024-02-23T18:35:19.299872Z",
          "iopub.execute_input": "2024-02-23T18:35:19.300206Z",
          "iopub.status.idle": "2024-02-23T18:35:20.011599Z",
          "shell.execute_reply.started": "2024-02-23T18:35:19.300178Z",
          "shell.execute_reply": "2024-02-23T18:35:20.010512Z"
        },
        "trusted": true,
        "id": "fnai4rAQ1wvS"
      },
      "execution_count": null,
      "outputs": []
    },
    {
      "cell_type": "markdown",
      "source": [
        "### Machine Learning\n",
        "Starting using K-nn and analysing its precision"
      ],
      "metadata": {
        "id": "oaAkV1b01wvS"
      }
    },
    {
      "cell_type": "code",
      "source": [
        "from sklearn.neighbors import KNeighborsClassifier\n",
        "from sklearn.model_selection import train_test_split\n",
        "\n",
        "X = aircraft_df.drop(['Unnamed: 0', 'Aircraft Model','Center of Gravity Limits', 'Engine Type'], axis=1)\n",
        "y = aircraft_df['Aircraft Model']\n",
        "\n",
        "X_train, X_test, y_train, y_test = train_test_split(X, y, test_size=0.3, random_state=1)\n",
        "\n",
        "n_neighbors = 20\n",
        "\n",
        "clf = KNeighborsClassifier(n_neighbors=n_neighbors)\n",
        "\n",
        "clf.fit(X_train, y_train)"
      ],
      "metadata": {
        "execution": {
          "iopub.status.busy": "2024-02-23T18:35:20.013267Z",
          "iopub.execute_input": "2024-02-23T18:35:20.013669Z",
          "iopub.status.idle": "2024-02-23T18:35:20.1006Z",
          "shell.execute_reply.started": "2024-02-23T18:35:20.013635Z",
          "shell.execute_reply": "2024-02-23T18:35:20.099569Z"
        },
        "trusted": true,
        "id": "ySmv_whE1wvS"
      },
      "execution_count": null,
      "outputs": []
    },
    {
      "cell_type": "code",
      "source": [
        "y_pred = clf.predict(X_test)"
      ],
      "metadata": {
        "execution": {
          "iopub.status.busy": "2024-02-23T18:35:20.102243Z",
          "iopub.execute_input": "2024-02-23T18:35:20.102534Z",
          "iopub.status.idle": "2024-02-23T18:35:20.744988Z",
          "shell.execute_reply.started": "2024-02-23T18:35:20.102508Z",
          "shell.execute_reply": "2024-02-23T18:35:20.743907Z"
        },
        "trusted": true,
        "id": "ePGclypX1wvT"
      },
      "execution_count": null,
      "outputs": []
    },
    {
      "cell_type": "code",
      "source": [
        "from sklearn.metrics import classification_report\n",
        "\n",
        "print(classification_report(y_test, y_pred))"
      ],
      "metadata": {
        "execution": {
          "iopub.status.busy": "2024-02-23T18:35:20.746205Z",
          "iopub.execute_input": "2024-02-23T18:35:20.746507Z",
          "iopub.status.idle": "2024-02-23T18:35:21.154357Z",
          "shell.execute_reply.started": "2024-02-23T18:35:20.746481Z",
          "shell.execute_reply": "2024-02-23T18:35:21.153308Z"
        },
        "trusted": true,
        "id": "UZRPijD91wvT"
      },
      "execution_count": null,
      "outputs": []
    },
    {
      "cell_type": "markdown",
      "source": [
        "#### Using RandomForestClassifier with numeric features"
      ],
      "metadata": {
        "id": "uFG3RA-H1wvT"
      }
    },
    {
      "cell_type": "code",
      "source": [
        "from sklearn.ensemble import RandomForestClassifier, RandomForestRegressor\n",
        "\n",
        "clf_rfc = RandomForestClassifier(max_depth=20, random_state=2)\n",
        "\n",
        "clf_rfc.fit(X_train, y_train)"
      ],
      "metadata": {
        "execution": {
          "iopub.status.busy": "2024-02-23T18:35:21.158114Z",
          "iopub.execute_input": "2024-02-23T18:35:21.158583Z",
          "iopub.status.idle": "2024-02-23T18:35:30.869222Z",
          "shell.execute_reply.started": "2024-02-23T18:35:21.158541Z",
          "shell.execute_reply": "2024-02-23T18:35:30.867916Z"
        },
        "trusted": true,
        "id": "XxSisTj21wvT"
      },
      "execution_count": null,
      "outputs": []
    },
    {
      "cell_type": "code",
      "source": [
        "y_predrfc = clf_rfc.predict(X_test)"
      ],
      "metadata": {
        "execution": {
          "iopub.status.busy": "2024-02-23T18:35:30.870902Z",
          "iopub.execute_input": "2024-02-23T18:35:30.871284Z",
          "iopub.status.idle": "2024-02-23T18:35:31.051965Z",
          "shell.execute_reply.started": "2024-02-23T18:35:30.871253Z",
          "shell.execute_reply": "2024-02-23T18:35:31.050658Z"
        },
        "trusted": true,
        "id": "ML29I7XS1wvT"
      },
      "execution_count": null,
      "outputs": []
    },
    {
      "cell_type": "code",
      "source": [
        "print(classification_report(y_test, y_predrfc))"
      ],
      "metadata": {
        "execution": {
          "iopub.status.busy": "2024-02-23T18:35:31.053837Z",
          "iopub.execute_input": "2024-02-23T18:35:31.054192Z",
          "iopub.status.idle": "2024-02-23T18:35:31.462705Z",
          "shell.execute_reply.started": "2024-02-23T18:35:31.054161Z",
          "shell.execute_reply": "2024-02-23T18:35:31.461486Z"
        },
        "trusted": true,
        "id": "fsGE_5NS1wvT"
      },
      "execution_count": null,
      "outputs": []
    },
    {
      "cell_type": "code",
      "source": [
        "from sklearn.metrics import confusion_matrix\n",
        "\n",
        "confusion_matrix(y_test, y_pred)"
      ],
      "metadata": {
        "execution": {
          "iopub.status.busy": "2024-02-23T18:35:31.464372Z",
          "iopub.execute_input": "2024-02-23T18:35:31.465423Z",
          "iopub.status.idle": "2024-02-23T18:35:31.517476Z",
          "shell.execute_reply.started": "2024-02-23T18:35:31.465389Z",
          "shell.execute_reply": "2024-02-23T18:35:31.516354Z"
        },
        "trusted": true,
        "id": "EHZWDk9z1wvT"
      },
      "execution_count": null,
      "outputs": []
    },
    {
      "cell_type": "markdown",
      "source": [
        "##### *As visible, the results weren't satisfied. So, it'll need preprocessing methods for a better evaluation*"
      ],
      "metadata": {
        "id": "P1pImjZO1wvU"
      }
    },
    {
      "cell_type": "code",
      "source": [
        "from sklearn import preprocessing\n",
        "\n",
        "\n",
        "\n",
        "# Use data from X_train to create a Scaller\n",
        "sscaler = preprocessing.StandardScaler().fit(X_train, y_train)\n",
        "\n",
        "# Seeing if the Scaller was appropriately created\n",
        "sscaler"
      ],
      "metadata": {
        "execution": {
          "iopub.status.busy": "2024-02-23T18:35:31.518972Z",
          "iopub.execute_input": "2024-02-23T18:35:31.519381Z",
          "iopub.status.idle": "2024-02-23T18:35:31.533827Z",
          "shell.execute_reply.started": "2024-02-23T18:35:31.519352Z",
          "shell.execute_reply": "2024-02-23T18:35:31.532703Z"
        },
        "trusted": true,
        "id": "ksp9P0Lj1wvU"
      },
      "execution_count": null,
      "outputs": []
    },
    {
      "cell_type": "code",
      "source": [
        "X_scaled = sscaler.transform(X_train)\n",
        "\n",
        "X_scaled_df = pd.DataFrame(X_scaled, columns=X_train.columns)\n",
        "\n",
        "X_scaled_df"
      ],
      "metadata": {
        "execution": {
          "iopub.status.busy": "2024-02-23T18:35:31.535805Z",
          "iopub.execute_input": "2024-02-23T18:35:31.536235Z",
          "iopub.status.idle": "2024-02-23T18:35:31.566673Z",
          "shell.execute_reply.started": "2024-02-23T18:35:31.536205Z",
          "shell.execute_reply": "2024-02-23T18:35:31.565551Z"
        },
        "trusted": true,
        "id": "g7SO0CSl1wvU"
      },
      "execution_count": null,
      "outputs": []
    },
    {
      "cell_type": "code",
      "source": [
        "# Re-calling clf_rfc, but removing the Max_Depth\n",
        "clf_rfc = RandomForestClassifier(random_state=2)\n",
        "\n",
        "clf_rfc.fit(X_scaled_df, y_train)"
      ],
      "metadata": {
        "execution": {
          "iopub.status.busy": "2024-02-23T18:35:31.568338Z",
          "iopub.execute_input": "2024-02-23T18:35:31.569222Z",
          "iopub.status.idle": "2024-02-23T18:35:44.948768Z",
          "shell.execute_reply.started": "2024-02-23T18:35:31.56919Z",
          "shell.execute_reply": "2024-02-23T18:35:44.947486Z"
        },
        "trusted": true,
        "id": "B9BrvU9W1wvU"
      },
      "execution_count": null,
      "outputs": []
    },
    {
      "cell_type": "code",
      "source": [
        "y_pred2 = clf_rfc.predict(X_test)\n",
        "\n",
        "print(confusion_matrix(y_test, y_pred2))"
      ],
      "metadata": {
        "execution": {
          "iopub.status.busy": "2024-02-23T18:35:44.950025Z",
          "iopub.execute_input": "2024-02-23T18:35:44.950333Z",
          "iopub.status.idle": "2024-02-23T18:35:45.061906Z",
          "shell.execute_reply.started": "2024-02-23T18:35:44.950306Z",
          "shell.execute_reply": "2024-02-23T18:35:45.060684Z"
        },
        "trusted": true,
        "id": "CUFT2a1y1wvU"
      },
      "execution_count": null,
      "outputs": []
    },
    {
      "cell_type": "code",
      "source": [
        "print(classification_report(y_test, y_pred2))"
      ],
      "metadata": {
        "execution": {
          "iopub.status.busy": "2024-02-23T18:35:45.063879Z",
          "iopub.execute_input": "2024-02-23T18:35:45.064339Z",
          "iopub.status.idle": "2024-02-23T18:35:45.452953Z",
          "shell.execute_reply.started": "2024-02-23T18:35:45.064298Z",
          "shell.execute_reply": "2024-02-23T18:35:45.45165Z"
        },
        "trusted": true,
        "id": "d1UDQjot1wvU"
      },
      "execution_count": null,
      "outputs": []
    }
  ]
}