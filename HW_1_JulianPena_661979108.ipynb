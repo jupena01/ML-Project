{
  "nbformat": 4,
  "nbformat_minor": 0,
  "metadata": {
    "colab": {
      "provenance": [],
      "authorship_tag": "ABX9TyNpwkLJXRtvdL7SpmILmjed",
      "include_colab_link": true
    },
    "kernelspec": {
      "name": "python3",
      "display_name": "Python 3"
    },
    "language_info": {
      "name": "python"
    }
  },
  "cells": [
    {
      "cell_type": "markdown",
      "metadata": {
        "id": "view-in-github",
        "colab_type": "text"
      },
      "source": [
        "<a href=\"https://colab.research.google.com/github/jupena01/ML-Project/blob/main/HW_1_JulianPena_661979108.ipynb\" target=\"_parent\"><img src=\"https://colab.research.google.com/assets/colab-badge.svg\" alt=\"Open In Colab\"/></a>"
      ]
    },
    {
      "cell_type": "code",
      "execution_count": null,
      "metadata": {
        "colab": {
          "base_uri": "https://localhost:8080/"
        },
        "id": "JN_mfdbZbjgq",
        "outputId": "8ae66502-da07-449b-c90d-bf5d70f464e1"
      },
      "outputs": [
        {
          "output_type": "stream",
          "name": "stdout",
          "text": [
            "x1 contains 5 features!\n",
            "Manhattan norm of x1: 26\n",
            "Euclidean norm of x1: 13.19090595827292\n",
            "Max-norm of x1: 9\n",
            "x2 contains 4 features!\n",
            "Manhattan norm of x2: 98\n",
            "Euclidean norm of x2: 89.16277250063504\n",
            "Max-norm of x2: 89\n"
          ]
        }
      ],
      "source": [
        "#Question 1\n",
        "import math\n",
        "x1 = [2,3,4,8,9]\n",
        "print('x1 contains 5 features!')\n",
        "L1_x1 = 2 + 3 + 4 + 8 + 9\n",
        "L2_x1 = math.sqrt(4 + 9 + 16 + 64 + 81)\n",
        "Linf_x1 = 9\n",
        "print('Manhattan norm of x1:', L1_x1)\n",
        "print('Euclidean norm of x1:', L2_x1)\n",
        "print('Max-norm of x1:', Linf_x1)\n",
        "\n",
        "x2 = [2,-3,-4,89]\n",
        "print('x2 contains 4 features!')\n",
        "L1_x2 = 2 + 3 + 4 + 89\n",
        "L2_x2= math.sqrt(4 + 9 + 16 + 7921)\n",
        "Linf_x2 = 89\n",
        "print('Manhattan norm of x2:', L1_x2)\n",
        "print('Euclidean norm of x2:', L2_x2)\n",
        "print('Max-norm of x2:', Linf_x2)"
      ]
    },
    {
      "cell_type": "code",
      "source": [
        "#Question 2\n",
        "#input 1024x1024, output 64x64 -> both have 3 color channels (RGB)\n",
        "Lx = 1024 * 1024 * 3\n",
        "print('Length of x:', Lx)\n",
        "Ly = 64 * 64 * 3\n",
        "print('Length of y:',Ly)\n",
        "#y = Wx + b\n",
        "W = Lx * Ly\n",
        "print('Elements in matrix W:', W)\n",
        "b = Ly\n",
        "print('Elements in vector b:', b)"
      ],
      "metadata": {
        "colab": {
          "base_uri": "https://localhost:8080/"
        },
        "id": "i4L8955SlS0k",
        "outputId": "fb895938-92d9-4ea5-9e67-c682565a7b55"
      },
      "execution_count": null,
      "outputs": [
        {
          "output_type": "stream",
          "name": "stdout",
          "text": [
            "Length of x: 3145728\n",
            "Length of y: 12288\n",
            "Elements in matrix W: 38654705664\n",
            "Elements in vector b: 12288\n"
          ]
        }
      ]
    },
    {
      "cell_type": "code",
      "source": [
        "#Question 3\n",
        "import numpy as np\n",
        "from numpy.linalg import eig\n",
        "W = np.array([[1,-1],[2,0]])\n",
        "\n",
        "#1-norm\n",
        "j1 = 1 + 2\n",
        "j2 = 1 + 0\n",
        "print('1-norm:', 3)\n",
        "\n",
        "#2-norm\n",
        "Wt = np.array([[1,2],[-1,0]]) #W transposed\n",
        "A = np.array([[5,-1],[-1,1]]) #Wt*W\n",
        "w,v = eig(A)\n",
        "print('E-value:',w)\n",
        "print('E-vector:',v)\n",
        "rho = math.sqrt(5.23606798)\n",
        "print('2-norm:', rho)\n",
        "\n",
        "#inf-norm\n",
        "i1 = 1 + 1\n",
        "i2 = 2 + 0\n",
        "print('inf-norm:', 2)\n",
        "\n",
        "#Frobenius-norm\n",
        "F = np.array([[1,1],[4,0]]) #W^2\n",
        "sum = 1+1+4+0\n",
        "f = math.sqrt(sum)\n",
        "print('Frobenius-norm:',f)"
      ],
      "metadata": {
        "colab": {
          "base_uri": "https://localhost:8080/"
        },
        "id": "mjEiNzLJrSg-",
        "outputId": "ea5f515b-d623-4724-9a29-51e7dbaa5a8e"
      },
      "execution_count": null,
      "outputs": [
        {
          "output_type": "stream",
          "name": "stdout",
          "text": [
            "1-norm: 3\n",
            "E-value: [5.23606798 0.76393202]\n",
            "E-vector: [[ 0.97324899  0.22975292]\n",
            " [-0.22975292  0.97324899]]\n",
            "2-norm: 2.288245611817053\n",
            "inf-norm: 2\n",
            "Frobenius-norm: 2.449489742783178\n"
          ]
        }
      ]
    },
    {
      "cell_type": "code",
      "source": [
        "#Question 4\n",
        "from sklearn import datasets\n",
        "from sklearn.model_selection import train_test_split\n",
        "from sklearn import svm\n",
        "from sklearn.metrics import accuracy_score\n",
        "\n",
        "iris = datasets.load_iris()\n",
        "iris.data\n",
        "iris.feature_names\n",
        "iris.target_names\n",
        "iris.target\n",
        "X = iris.data[:, :3]\n",
        "y = iris.target\n",
        "X_train, X_test, y_train, y_test=train_test_split(\n",
        "    X,y,\n",
        "    test_size=0.40,\n",
        "    train_size=0.60,\n",
        "    random_state=123,\n",
        "    shuffle=True,\n",
        "    stratify=y)\n",
        "clf = svm.SVC()\n",
        "clf.fit(X_train, y_train)\n",
        "preds = clf.predict(X_test)\n",
        "print(preds)\n",
        "print('actual iris species')\n",
        "print(y_test)\n",
        "acc = accuracy_score(y_test,clf.predict(X_test) )\n",
        "print('accuracy score :', acc)"
      ],
      "metadata": {
        "colab": {
          "base_uri": "https://localhost:8080/"
        },
        "id": "BYoeNBcOrTni",
        "outputId": "3f024b53-3c9a-468c-9335-57098e71546e"
      },
      "execution_count": null,
      "outputs": [
        {
          "output_type": "stream",
          "name": "stdout",
          "text": [
            "[1 1 1 1 0 2 2 0 0 2 0 2 2 1 2 0 1 2 0 2 2 0 2 0 0 2 1 0 0 0 0 0 1 2 0 1 1\n",
            " 2 0 1 0 2 2 2 0 2 2 2 0 0 1 1 2 1 2 1 1 2 1 1]\n",
            "actual iris species\n",
            "[1 1 1 1 0 1 2 0 0 2 0 2 2 1 2 0 1 2 0 2 2 0 1 0 0 2 1 0 0 0 0 0 1 2 0 1 1\n",
            " 2 0 1 0 2 2 2 0 2 2 1 0 0 1 1 2 1 2 1 1 2 1 2]\n",
            "accuracy score : 0.9333333333333333\n"
          ]
        }
      ]
    },
    {
      "cell_type": "code",
      "source": [
        "#Question 5\n",
        "import tensorflow as tf\n",
        "from numpy import loadtxt\n",
        "from keras.models import Sequential\n",
        "from keras.layers import Dense\n",
        "from keras import optimizers\n",
        "from tensorflow.python.keras.optimizers import *\n",
        "import numpy as np\n",
        "import matplotlib.pyplot as plt\n",
        "\n",
        "#Load dataset\n",
        "#split into input (X) and output (y)\n",
        "X = np.array([[i] for i in range(1, 101)]).astype(float)\n",
        "y = np.array([[i**(1/7)] for i in range(1, 101)]).astype(float)\n",
        "\n",
        "#define keras model\n",
        "model = Sequential()\n",
        "\n",
        "model.add(Dense(6,input_dim=1,activation='relu'))\n",
        "model.add(Dense(6,activation='relu'))\n",
        "model.add(Dense(6,activation='relu'))\n",
        "model.add(Dense(1))\n",
        "\n",
        "#compile the keras model\n",
        "opt = optimizers.Adam(learning_rate=0.001)\n",
        "mse = tf.keras.losses.MeanSquaredError(\n",
        "    reduction=tf.keras.losses.Reduction.SUM)\n",
        "model.compile(loss=mse, optimizer=opt)\n",
        "\n",
        "#fit the keras model on the dataset (CPU)\n",
        "model.fit(X,y,epochs=2000,batch_size=10, verbose=0)\n",
        "model.summary()\n",
        "\n",
        "#make class predictions with the model\n",
        "predictions = model.predict(X)\n",
        "\n",
        "for i in range(100):\n",
        "    print('%s => %.2f (expected %.2f)' %(X[i].tolist(), predictions[i], y[i]))\n",
        "\n",
        "number_grid = np.linspace(1, 100, 100)\n",
        "plt.scatter(X,y, label='data')\n",
        "plt.plot(number_grid,model.predict(np.expand_dims(number_grid,axis=1)) , color='red', label='model')\n",
        "plt.xlabel('number')\n",
        "plt.ylabel('square root')\n",
        "plt.legend()"
      ],
      "metadata": {
        "id": "N6QJOahRrUDE",
        "colab": {
          "base_uri": "https://localhost:8080/",
          "height": 1000
        },
        "outputId": "3506c825-4ba5-4392-b2c2-63814a43116a"
      },
      "execution_count": null,
      "outputs": [
        {
          "output_type": "stream",
          "name": "stdout",
          "text": [
            "Model: \"sequential_4\"\n",
            "_________________________________________________________________\n",
            " Layer (type)                Output Shape              Param #   \n",
            "=================================================================\n",
            " dense_16 (Dense)            (None, 6)                 12        \n",
            "                                                                 \n",
            " dense_17 (Dense)            (None, 6)                 42        \n",
            "                                                                 \n",
            " dense_18 (Dense)            (None, 6)                 42        \n",
            "                                                                 \n",
            " dense_19 (Dense)            (None, 1)                 7         \n",
            "                                                                 \n",
            "=================================================================\n",
            "Total params: 103 (412.00 Byte)\n",
            "Trainable params: 103 (412.00 Byte)\n",
            "Non-trainable params: 0 (0.00 Byte)\n",
            "_________________________________________________________________\n",
            "4/4 [==============================] - 0s 4ms/step\n",
            "[1.0] => 1.06 (expected 1.00)\n",
            "[2.0] => 1.10 (expected 1.10)\n",
            "[3.0] => 1.15 (expected 1.17)\n",
            "[4.0] => 1.20 (expected 1.22)\n",
            "[5.0] => 1.25 (expected 1.26)\n",
            "[6.0] => 1.28 (expected 1.29)\n",
            "[7.0] => 1.31 (expected 1.32)\n",
            "[8.0] => 1.34 (expected 1.35)\n",
            "[9.0] => 1.37 (expected 1.37)\n",
            "[10.0] => 1.39 (expected 1.39)\n",
            "[11.0] => 1.42 (expected 1.41)\n",
            "[12.0] => 1.45 (expected 1.43)\n",
            "[13.0] => 1.46 (expected 1.44)\n",
            "[14.0] => 1.47 (expected 1.46)\n",
            "[15.0] => 1.48 (expected 1.47)\n",
            "[16.0] => 1.49 (expected 1.49)\n",
            "[17.0] => 1.50 (expected 1.50)\n",
            "[18.0] => 1.51 (expected 1.51)\n",
            "[19.0] => 1.52 (expected 1.52)\n",
            "[20.0] => 1.53 (expected 1.53)\n",
            "[21.0] => 1.54 (expected 1.54)\n",
            "[22.0] => 1.55 (expected 1.56)\n",
            "[23.0] => 1.55 (expected 1.57)\n",
            "[24.0] => 1.56 (expected 1.57)\n",
            "[25.0] => 1.57 (expected 1.58)\n",
            "[26.0] => 1.58 (expected 1.59)\n",
            "[27.0] => 1.59 (expected 1.60)\n",
            "[28.0] => 1.60 (expected 1.61)\n",
            "[29.0] => 1.61 (expected 1.62)\n",
            "[30.0] => 1.62 (expected 1.63)\n",
            "[31.0] => 1.63 (expected 1.63)\n",
            "[32.0] => 1.64 (expected 1.64)\n",
            "[33.0] => 1.65 (expected 1.65)\n",
            "[34.0] => 1.66 (expected 1.65)\n",
            "[35.0] => 1.66 (expected 1.66)\n",
            "[36.0] => 1.67 (expected 1.67)\n",
            "[37.0] => 1.68 (expected 1.68)\n",
            "[38.0] => 1.69 (expected 1.68)\n",
            "[39.0] => 1.70 (expected 1.69)\n",
            "[40.0] => 1.71 (expected 1.69)\n",
            "[41.0] => 1.72 (expected 1.70)\n",
            "[42.0] => 1.72 (expected 1.71)\n",
            "[43.0] => 1.72 (expected 1.71)\n",
            "[44.0] => 1.73 (expected 1.72)\n",
            "[45.0] => 1.73 (expected 1.72)\n",
            "[46.0] => 1.73 (expected 1.73)\n",
            "[47.0] => 1.74 (expected 1.73)\n",
            "[48.0] => 1.74 (expected 1.74)\n",
            "[49.0] => 1.75 (expected 1.74)\n",
            "[50.0] => 1.75 (expected 1.75)\n",
            "[51.0] => 1.75 (expected 1.75)\n",
            "[52.0] => 1.76 (expected 1.76)\n",
            "[53.0] => 1.76 (expected 1.76)\n",
            "[54.0] => 1.77 (expected 1.77)\n",
            "[55.0] => 1.77 (expected 1.77)\n",
            "[56.0] => 1.77 (expected 1.78)\n",
            "[57.0] => 1.78 (expected 1.78)\n",
            "[58.0] => 1.78 (expected 1.79)\n",
            "[59.0] => 1.78 (expected 1.79)\n",
            "[60.0] => 1.79 (expected 1.79)\n",
            "[61.0] => 1.79 (expected 1.80)\n",
            "[62.0] => 1.80 (expected 1.80)\n",
            "[63.0] => 1.80 (expected 1.81)\n",
            "[64.0] => 1.80 (expected 1.81)\n",
            "[65.0] => 1.81 (expected 1.82)\n",
            "[66.0] => 1.81 (expected 1.82)\n",
            "[67.0] => 1.81 (expected 1.82)\n",
            "[68.0] => 1.82 (expected 1.83)\n",
            "[69.0] => 1.82 (expected 1.83)\n",
            "[70.0] => 1.83 (expected 1.83)\n",
            "[71.0] => 1.83 (expected 1.84)\n",
            "[72.0] => 1.83 (expected 1.84)\n",
            "[73.0] => 1.84 (expected 1.85)\n",
            "[74.0] => 1.84 (expected 1.85)\n",
            "[75.0] => 1.84 (expected 1.85)\n",
            "[76.0] => 1.85 (expected 1.86)\n",
            "[77.0] => 1.85 (expected 1.86)\n",
            "[78.0] => 1.86 (expected 1.86)\n",
            "[79.0] => 1.86 (expected 1.87)\n",
            "[80.0] => 1.86 (expected 1.87)\n",
            "[81.0] => 1.87 (expected 1.87)\n",
            "[82.0] => 1.87 (expected 1.88)\n",
            "[83.0] => 1.87 (expected 1.88)\n",
            "[84.0] => 1.88 (expected 1.88)\n",
            "[85.0] => 1.88 (expected 1.89)\n",
            "[86.0] => 1.89 (expected 1.89)\n",
            "[87.0] => 1.89 (expected 1.89)\n",
            "[88.0] => 1.89 (expected 1.90)\n",
            "[89.0] => 1.90 (expected 1.90)\n",
            "[90.0] => 1.90 (expected 1.90)\n",
            "[91.0] => 1.91 (expected 1.90)\n",
            "[92.0] => 1.91 (expected 1.91)\n",
            "[93.0] => 1.91 (expected 1.91)\n",
            "[94.0] => 1.92 (expected 1.91)\n",
            "[95.0] => 1.92 (expected 1.92)\n",
            "[96.0] => 1.92 (expected 1.92)\n",
            "[97.0] => 1.93 (expected 1.92)\n",
            "[98.0] => 1.93 (expected 1.93)\n",
            "[99.0] => 1.94 (expected 1.93)\n",
            "[100.0] => 1.94 (expected 1.93)\n",
            "4/4 [==============================] - 0s 3ms/step\n"
          ]
        },
        {
          "output_type": "execute_result",
          "data": {
            "text/plain": [
              "<matplotlib.legend.Legend at 0x7d0191ba3880>"
            ]
          },
          "metadata": {},
          "execution_count": 5
        },
        {
          "output_type": "display_data",
          "data": {
            "text/plain": [
              "<Figure size 640x480 with 1 Axes>"
            ],
            "image/png": "[encoded data removed]"
          },
          "metadata": {}
        }
      ]
    },
    {
      "cell_type": "code",
      "source": [
        "#Question 6\n",
        "from sklearn import datasets\n",
        "from sklearn.model_selection import train_test_split\n",
        "from sklearn import svm\n",
        "from sklearn.metrics import accuracy_score\n",
        "import tensorflow as tf\n",
        "from numpy import loadtxt\n",
        "from keras.models import Sequential\n",
        "from keras.layers import Dense\n",
        "from keras import optimizers\n",
        "from tensorflow.python.keras.optimizers import *\n",
        "import numpy as np\n",
        "import matplotlib.pyplot as plt\n",
        "\n",
        "iris = datasets.load_iris()\n",
        "iris.data\n",
        "iris.feature_names\n",
        "iris.target_names\n",
        "iris.target\n",
        "X = iris.data[:, 0]  # Sepal length\n",
        "y = iris.data[:, 2]  # Petal length\n",
        "\n",
        "# Normalize the data\n",
        "X = (X - X.min()) / (X.max() - X.min())\n",
        "y = (y - y.min()) / (y.max() - y.min())\n",
        "\n",
        "# Define the Keras model\n",
        "model = Sequential()\n",
        "model.add(Dense(8, input_dim=1, activation='relu'))\n",
        "model.add(Dense(8, activation='relu'))\n",
        "model.add(Dense(1))\n",
        "\n",
        "#compile the keras model\n",
        "opt = optimizers.Adam(learning_rate=0.001)\n",
        "mse = tf.keras.losses.MeanSquaredError(\n",
        "    reduction=tf.keras.losses.Reduction.SUM)\n",
        "model.compile(loss=mse, optimizer=opt)\n",
        "\n",
        "#fit the keras model on the dataset (CPU)\n",
        "model.fit(X,y,epochs=2000,batch_size=10, verbose=0)\n",
        "model.summary()\n",
        "\n",
        "#make class predictions with the model\n",
        "predictions = model.predict(X)\n",
        "\n",
        "for i in range(100):\n",
        "    print('%s => %.2f (expected %.2f)' %(X[i].tolist(), predictions[i], y[i]))\n",
        "\n",
        "number_grid = np.linspace(0, 1, 100)\n",
        "plt.scatter(X,y, label='data')\n",
        "plt.plot(number_grid,model.predict(np.expand_dims(number_grid,axis=1)) , color='red', label='model')\n",
        "plt.xlabel('sepal length')\n",
        "plt.ylabel('petal length')\n",
        "plt.legend()"
      ],
      "metadata": {
        "id": "aoUZYPeOrZpq",
        "colab": {
          "base_uri": "https://localhost:8080/",
          "height": 1000
        },
        "outputId": "0ad4ccf0-7478-4a39-e761-284a5d8d1a72"
      },
      "execution_count": null,
      "outputs": [
        {
          "output_type": "stream",
          "name": "stdout",
          "text": [
            "Model: \"sequential_9\"\n",
            "_________________________________________________________________\n",
            " Layer (type)                Output Shape              Param #   \n",
            "=================================================================\n",
            " dense_32 (Dense)            (None, 8)                 16        \n",
            "                                                                 \n",
            " dense_33 (Dense)            (None, 8)                 72        \n",
            "                                                                 \n",
            " dense_34 (Dense)            (None, 1)                 9         \n",
            "                                                                 \n",
            "=================================================================\n",
            "Total params: 97 (388.00 Byte)\n",
            "Trainable params: 97 (388.00 Byte)\n",
            "Non-trainable params: 0 (0.00 Byte)\n",
            "_________________________________________________________________\n",
            "5/5 [==============================] - 0s 2ms/step\n",
            "0.22222222222222213 => 0.16 (expected 0.07)\n",
            "0.1666666666666668 => 0.13 (expected 0.07)\n",
            "0.11111111111111119 => 0.10 (expected 0.05)\n",
            "0.08333333333333327 => 0.08 (expected 0.08)\n",
            "0.19444444444444448 => 0.14 (expected 0.07)\n",
            "0.30555555555555564 => 0.26 (expected 0.12)\n",
            "0.08333333333333327 => 0.08 (expected 0.07)\n",
            "0.19444444444444448 => 0.14 (expected 0.08)\n",
            "0.027777777777777922 => 0.05 (expected 0.07)\n",
            "0.1666666666666668 => 0.13 (expected 0.08)\n",
            "0.30555555555555564 => 0.26 (expected 0.08)\n",
            "0.13888888888888887 => 0.11 (expected 0.10)\n",
            "0.13888888888888887 => 0.11 (expected 0.07)\n",
            "0.0 => 0.04 (expected 0.02)\n",
            "0.41666666666666663 => 0.56 (expected 0.03)\n",
            "0.38888888888888895 => 0.48 (expected 0.08)\n",
            "0.30555555555555564 => 0.26 (expected 0.05)\n",
            "0.22222222222222213 => 0.16 (expected 0.07)\n",
            "0.38888888888888895 => 0.48 (expected 0.12)\n",
            "0.22222222222222213 => 0.16 (expected 0.08)\n",
            "0.30555555555555564 => 0.26 (expected 0.12)\n",
            "0.22222222222222213 => 0.16 (expected 0.08)\n",
            "0.08333333333333327 => 0.08 (expected 0.00)\n",
            "0.22222222222222213 => 0.16 (expected 0.12)\n",
            "0.13888888888888887 => 0.11 (expected 0.15)\n",
            "0.19444444444444448 => 0.14 (expected 0.10)\n",
            "0.19444444444444448 => 0.14 (expected 0.10)\n",
            "0.25000000000000006 => 0.17 (expected 0.08)\n",
            "0.25000000000000006 => 0.17 (expected 0.07)\n",
            "0.11111111111111119 => 0.10 (expected 0.10)\n",
            "0.13888888888888887 => 0.11 (expected 0.10)\n",
            "0.30555555555555564 => 0.26 (expected 0.08)\n",
            "0.25000000000000006 => 0.17 (expected 0.08)\n",
            "0.3333333333333333 => 0.33 (expected 0.07)\n",
            "0.1666666666666668 => 0.13 (expected 0.08)\n",
            "0.19444444444444448 => 0.14 (expected 0.03)\n",
            "0.3333333333333333 => 0.33 (expected 0.05)\n",
            "0.1666666666666668 => 0.13 (expected 0.07)\n",
            "0.027777777777777922 => 0.05 (expected 0.05)\n",
            "0.22222222222222213 => 0.16 (expected 0.08)\n",
            "0.19444444444444448 => 0.14 (expected 0.05)\n",
            "0.055555555555555594 => 0.07 (expected 0.05)\n",
            "0.027777777777777922 => 0.05 (expected 0.05)\n",
            "0.19444444444444448 => 0.14 (expected 0.10)\n",
            "0.22222222222222213 => 0.16 (expected 0.15)\n",
            "0.13888888888888887 => 0.11 (expected 0.07)\n",
            "0.22222222222222213 => 0.16 (expected 0.10)\n",
            "0.08333333333333327 => 0.08 (expected 0.07)\n",
            "0.27777777777777773 => 0.19 (expected 0.08)\n",
            "0.19444444444444448 => 0.14 (expected 0.07)\n",
            "0.7499999999999999 => 0.79 (expected 0.63)\n",
            "0.5833333333333334 => 0.69 (expected 0.59)\n",
            "0.7222222222222222 => 0.78 (expected 0.66)\n",
            "0.3333333333333333 => 0.33 (expected 0.51)\n",
            "0.611111111111111 => 0.71 (expected 0.61)\n",
            "0.38888888888888895 => 0.48 (expected 0.59)\n",
            "0.5555555555555555 => 0.67 (expected 0.63)\n",
            "0.1666666666666668 => 0.13 (expected 0.39)\n",
            "0.6388888888888887 => 0.72 (expected 0.61)\n",
            "0.25000000000000006 => 0.17 (expected 0.49)\n",
            "0.19444444444444448 => 0.14 (expected 0.42)\n",
            "0.44444444444444453 => 0.60 (expected 0.54)\n",
            "0.4722222222222222 => 0.62 (expected 0.51)\n",
            "0.4999999999999999 => 0.64 (expected 0.63)\n",
            "0.361111111111111 => 0.41 (expected 0.44)\n",
            "0.6666666666666666 => 0.74 (expected 0.58)\n",
            "0.361111111111111 => 0.41 (expected 0.59)\n",
            "0.41666666666666663 => 0.56 (expected 0.53)\n",
            "0.5277777777777778 => 0.65 (expected 0.59)\n",
            "0.361111111111111 => 0.41 (expected 0.49)\n",
            "0.44444444444444453 => 0.60 (expected 0.64)\n",
            "0.4999999999999999 => 0.64 (expected 0.51)\n",
            "0.5555555555555555 => 0.67 (expected 0.66)\n",
            "0.4999999999999999 => 0.64 (expected 0.63)\n",
            "0.5833333333333334 => 0.69 (expected 0.56)\n",
            "0.6388888888888887 => 0.72 (expected 0.58)\n",
            "0.6944444444444443 => 0.76 (expected 0.64)\n",
            "0.6666666666666666 => 0.74 (expected 0.68)\n",
            "0.4722222222222222 => 0.62 (expected 0.59)\n",
            "0.38888888888888895 => 0.48 (expected 0.42)\n",
            "0.3333333333333333 => 0.33 (expected 0.47)\n",
            "0.3333333333333333 => 0.33 (expected 0.46)\n",
            "0.41666666666666663 => 0.56 (expected 0.49)\n",
            "0.4722222222222222 => 0.62 (expected 0.69)\n",
            "0.30555555555555564 => 0.26 (expected 0.59)\n",
            "0.4722222222222222 => 0.62 (expected 0.59)\n",
            "0.6666666666666666 => 0.74 (expected 0.63)\n",
            "0.5555555555555555 => 0.67 (expected 0.58)\n",
            "0.361111111111111 => 0.41 (expected 0.53)\n",
            "0.3333333333333333 => 0.33 (expected 0.51)\n",
            "0.3333333333333333 => 0.33 (expected 0.58)\n",
            "0.4999999999999999 => 0.64 (expected 0.61)\n",
            "0.41666666666666663 => 0.56 (expected 0.51)\n",
            "0.19444444444444448 => 0.14 (expected 0.39)\n",
            "0.361111111111111 => 0.41 (expected 0.54)\n",
            "0.38888888888888895 => 0.48 (expected 0.54)\n",
            "0.38888888888888895 => 0.48 (expected 0.54)\n",
            "0.5277777777777778 => 0.65 (expected 0.56)\n",
            "0.22222222222222213 => 0.16 (expected 0.34)\n",
            "0.38888888888888895 => 0.48 (expected 0.53)\n",
            "4/4 [==============================] - 0s 3ms/step\n"
          ]
        },
        {
          "output_type": "execute_result",
          "data": {
            "text/plain": [
              "<matplotlib.legend.Legend at 0x7d018d532440>"
            ]
          },
          "metadata": {},
          "execution_count": 10
        },
        {
          "output_type": "display_data",
          "data": {
            "text/plain": [
              "<Figure size 640x480 with 1 Axes>"
            ],
            "image/png": "[encoded data removed]"
          },
          "metadata": {}
        }
      ]
    },
    {
      "cell_type": "markdown",
      "source": [],
      "metadata": {
        "id": "6vE3rBuAHM4k"
      }
    }
  ]
}